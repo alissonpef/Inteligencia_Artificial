{
 "cells": [
  {
   "cell_type": "code",
   "execution_count": 51,
   "id": "78a484c1-639f-421f-bf9d-6712af78360e",
   "metadata": {},
   "outputs": [],
   "source": [
    "import numpy as np"
   ]
  },
  {
   "cell_type": "code",
   "execution_count": 52,
   "id": "2ddaf90c-8ff5-4ead-9b83-02c1625ae5f8",
   "metadata": {},
   "outputs": [],
   "source": [
    "# Taxa de aprendizado\n",
    "alfa = 0.7\n",
    "\n",
    "# Bias\n",
    "bias = 1"
   ]
  },
  {
   "cell_type": "code",
   "execution_count": 53,
   "id": "a7a8142f-51d4-4162-b55a-9a33bce93a6c",
   "metadata": {},
   "outputs": [],
   "source": [
    "# W\n",
    "pesos_sinapticos = np.zeros(3)"
   ]
  },
  {
   "cell_type": "code",
   "execution_count": 54,
   "id": "88a52ba9-2e06-4269-97f6-7400c5145423",
   "metadata": {},
   "outputs": [
    {
     "data": {
      "text/plain": [
       "array([0., 0., 0.])"
      ]
     },
     "execution_count": 54,
     "metadata": {},
     "output_type": "execute_result"
    }
   ],
   "source": [
    "pesos_sinapticos"
   ]
  },
  {
   "cell_type": "code",
   "execution_count": 55,
   "id": "7c32cadf-6d60-432b-ba66-2f2d682c0a57",
   "metadata": {},
   "outputs": [],
   "source": [
    "def degrau(valor):\n",
    "    if valor >= 0: return 1\n",
    "    return 0    \n",
    "        "
   ]
  },
  {
   "cell_type": "code",
   "execution_count": 56,
   "id": "ffff269f-5964-467a-a5ab-b2687d5c810a",
   "metadata": {},
   "outputs": [],
   "source": [
    "def soma(entrada_1, entrada_2):\n",
    "    somatoria = 0\n",
    "    # Primeira entrada\n",
    "    somatoria += entrada_1 * pesos_sinapticos[0]\n",
    "    somatoria += entrada_2 * pesos_sinapticos[1]\n",
    "    somatoria += bias * pesos_sinapticos[2]\n",
    "\n",
    "    return somatoria    "
   ]
  },
  {
   "cell_type": "code",
   "execution_count": 57,
   "id": "5c6ce882-4c8e-4d22-97cd-ec2c8dfc9518",
   "metadata": {},
   "outputs": [],
   "source": [
    "def erro(desejado, saida):\n",
    "    return desejado - saida"
   ]
  },
  {
   "cell_type": "code",
   "execution_count": 58,
   "id": "faa0ecdf-b321-4174-821d-9735cfd1477d",
   "metadata": {},
   "outputs": [],
   "source": [
    "def ajuste_sinapses(erro, entrada_1, entrada_2):\n",
    "    pesos_sinapticos[0] = pesos_sinapticos[0] + alfa * erro * entrada_1\n",
    "    pesos_sinapticos[1] = pesos_sinapticos[1] + alfa * erro * entrada_2\n",
    "    pesos_sinapticos[2] = pesos_sinapticos[2] + alfa * erro * bias"
   ]
  },
  {
   "cell_type": "code",
   "execution_count": 59,
   "id": "5474e1b6-1177-44d5-a0c2-d7785a907285",
   "metadata": {},
   "outputs": [],
   "source": [
    "# Treinar e testar o Perceptron\n",
    "\n",
    "X = np.array([[0, 0], [0, 1], [1, 0], [1, 1]])\n",
    "y = np.array([0, 0, 0, 1])"
   ]
  },
  {
   "cell_type": "code",
   "execution_count": 60,
   "id": "e2bf198e-7ed6-41de-b687-fde57f1913fd",
   "metadata": {},
   "outputs": [
    {
     "data": {
      "text/plain": [
       "array([[0, 0],\n",
       "       [0, 1],\n",
       "       [1, 0],\n",
       "       [1, 1]])"
      ]
     },
     "execution_count": 60,
     "metadata": {},
     "output_type": "execute_result"
    }
   ],
   "source": [
    "X"
   ]
  },
  {
   "cell_type": "code",
   "execution_count": 62,
   "id": "4436d6f6-e7b1-4807-858e-a6e0badcb0f0",
   "metadata": {},
   "outputs": [],
   "source": [
    "def verbose(epocas, err, entrada_1, entrada_2, saida):\n",
    "    print(f'Epoca....: {epocas}')\n",
    "    print(f'Entrada 1: {entrada_1}')\n",
    "    print(f'Entrada 2: {entrada_2}')\n",
    "    print(f'Saida...: {saida}')\n",
    "    print(f'Erro.....: {err}\\n')"
   ]
  },
  {
   "cell_type": "code",
   "execution_count": null,
   "id": "b1b358ab-6b37-40c9-8acc-7d41105fb9a3",
   "metadata": {},
   "outputs": [],
   "source": [
    "# Treinamento\n",
    "\n",
    "epocas = 1000\n",
    "total_erros = 0\n",
    "registro = 0\n",
    "\n",
    "for i in range(1, epocas+1):\n",
    "    # Chama a funcao de somatoria\n",
    "    S = soma(X[registro][0], X[registro][1])\n",
    "    # Chama funcao de ativacao (degrau)\n",
    "    s = degrau(S)\n",
    "    # Calcula o erro\n",
    "    err = erro(y[registro], s)\n",
    "    # Ajusta pesos sinapticos\n",
    "    ajuste_sinapses(err, X[registro][0], X[registro][1])\n",
    "\n",
    "    verbose(i, err, X[registro][0], X[registro][1], s)   \n",
    "    \n",
    "    total_erros += err\n",
    "    registro = (registro+1) % 4  \n"
   ]
  },
  {
   "cell_type": "code",
   "execution_count": null,
   "id": "ef563fb1-b205-45f2-969f-e63340f3f492",
   "metadata": {},
   "outputs": [],
   "source": []
  }
 ],
 "metadata": {
  "kernelspec": {
   "display_name": "Python 3 (ipykernel)",
   "language": "python",
   "name": "python3"
  },
  "language_info": {
   "codemirror_mode": {
    "name": "ipython",
    "version": 3
   },
   "file_extension": ".py",
   "mimetype": "text/x-python",
   "name": "python",
   "nbconvert_exporter": "python",
   "pygments_lexer": "ipython3",
   "version": "3.12.7"
  }
 },
 "nbformat": 4,
 "nbformat_minor": 5
}
